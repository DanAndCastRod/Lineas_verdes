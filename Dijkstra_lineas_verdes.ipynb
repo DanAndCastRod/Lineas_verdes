{
 "cells": [
  {
   "cell_type": "code",
   "execution_count": 3,
   "metadata": {},
   "outputs": [
    {
     "data": {
      "text/plain": [
       "(15.0, [6, 5, 3, 4, 1, 0])"
      ]
     },
     "execution_count": 3,
     "metadata": {},
     "output_type": "execute_result"
    }
   ],
   "source": [
    "from Dijkstra_module import dijkstra\n",
    "import numpy as np\n",
    "import matplotlib.pyplot as plt\n",
    "import noise\n",
    "from mapping import generar_mundo\n",
    "import mapping as mp\n",
    "from matplotlib.colors import ListedColormap\n",
    "\n",
    "G = np.array([\n",
    "    [0, 3, 9, 0, 0, 0, 0],\n",
    "    [0, 0, 0, 7, 1, 0, 0],\n",
    "    [0, 2, 0, 7, 0, 0, 0],\n",
    "    [0, 0, 0, 0, 0, 2, 8],\n",
    "    [0, 0, 4, 5, 0, 9, 0],\n",
    "    [0, 0, 0, 0, 0, 0, 4],\n",
    "    [0, 0, 0, 0, 0, 0, 0],\n",
    "    ])\n",
    "G =G.astype(float)\n",
    "dijkstra(G,0,6)"
   ]
  }
 ],
 "metadata": {
  "kernelspec": {
   "display_name": "Python 3 (ipykernel)",
   "language": "python",
   "name": "python3"
  },
  "language_info": {
   "codemirror_mode": {
    "name": "ipython",
    "version": 3
   },
   "file_extension": ".py",
   "mimetype": "text/x-python",
   "name": "python",
   "nbconvert_exporter": "python",
   "pygments_lexer": "ipython3",
   "version": "3.8.10"
  }
 },
 "nbformat": 4,
 "nbformat_minor": 2
}

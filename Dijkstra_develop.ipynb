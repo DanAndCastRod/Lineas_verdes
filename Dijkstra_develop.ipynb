{
 "cells": [
  {
   "cell_type": "code",
   "execution_count": 15,
   "metadata": {},
   "outputs": [
    {
     "data": {
      "image/png": "[encoded data removed]",
      "text/plain": [
       "<Figure size 640x480 with 2 Axes>"
      ]
     },
     "metadata": {},
     "output_type": "display_data"
    }
   ],
   "source": [
    "from Dijkstra_module import dijkstra\n",
    "import numpy as np\n",
    "import matplotlib.pyplot as plt\n",
    "import noise\n",
    "from mapping import generar_mundo\n",
    "import mapping as mp\n",
    "from matplotlib.colors import ListedColormap\n",
    "\n",
    "G = np.array([\n",
    "    [0, 3, 9, 0, 0, 0, 0],\n",
    "    [0, 0, 0, 7, 1, 0, 0],\n",
    "    [0, 2, 0, 7, 0, 0, 0],\n",
    "    [0, 0, 0, 0, 0, 2, 8],\n",
    "    [0, 0, 4, 5, 0, 9, 0],\n",
    "    [0, 0, 0, 0, 0, 0, 4],\n",
    "    [0, 0, 0, 0, 0, 0, 0],\n",
    "    ])\n",
    "G =G.astype(float)\n",
    "[e,L] = dijkstra(G,0,6)\n",
    "NumFilas = G.shape[0]\n",
    "NumColumnas = G.shape[1]\n",
    "# Convierte los índices lineales a índices de fila y columna\n",
    "fila, columna = np.unravel_index(L, (NumFilas, NumColumnas))\n",
    "\n",
    "# Crea una matriz de solución vacía\n",
    "MatSol = np.zeros((NumFilas, NumColumnas))\n",
    "\n",
    "# Ajusta las posiciones correspondientes a 1 en MatSol\n",
    "MatSol[fila, columna] = 1\n",
    "import pandas as pd\n",
    "\n",
    "mp.mostrar_mapa2(pd.read_excel('mapaini.xlsx',sheet_name='bosq'),'Greens',MatSol)"
   ]
  },
  {
   "cell_type": "code",
   "execution_count": 10,
   "metadata": {},
   "outputs": [],
   "source": [
    "def setupgraph(G, b, s):\n",
    "    G = G.astype(float)\n",
    "    shape = G.shape\n",
    "    h = shape[0]\n",
    "    w = shape[1]\n",
    "    if s == 1:\n",
    "        for i in range(h):\n",
    "            for j in range(w):\n",
    "                if G[i,j] == 0:\n",
    "                    G[i,j] = b\n",
    "    if s == 2:\n",
    "        for i in range(h):\n",
    "            for j in range(w):\n",
    "                if G[i,j] == b:\n",
    "                    G[i,j] = 0\n",
    "\n",
    "    return G\n",
    "\n",
    "def exchangenode(G, a, b):\n",
    "    # Exchange element at column a with element at column b;\n",
    "    buffer = G[:,a].copy()\n",
    "    G[:,a] = G[:,b]\n",
    "    G[:,b] = buffer\n",
    "\n",
    "    # Exchange element at row a with element at row b;\n",
    "    buffer = G[a,:].copy()\n",
    "    G[a,:] = G[b,:]\n",
    "    G[b,:] = buffer\n",
    "    \n",
    "    return G\n",
    "\n",
    "def listdijkstra(L, W, s, d):\n",
    "    index = int(W.shape[0]-1)\n",
    "    while index > 0:\n",
    "        if W[1, d] == W[int(W.shape[0]-1), d]:\n",
    "            L.append(int(s))\n",
    "            index = 0\n",
    "        else:\n",
    "            index2 = int(W.shape[0])\n",
    "            while int(index2) > 0:\n",
    "                if W[int(index2)-1, d] < W[int(index2)-2, d]:\n",
    "                    L.append(int(W[int(index2)-1, 0]))\n",
    "                    L = listdijkstra(L, W, s, int(W[int(index2-1), 0]))\n",
    "                    index2 = 0\n",
    "                else:\n",
    "                    index2= int(index2) - 1\n",
    "            index = 0\n",
    "    return L\n",
    "\n"
   ]
  },
  {
   "cell_type": "code",
   "execution_count": 16,
   "metadata": {},
   "outputs": [
    {
     "name": "stdout",
     "output_type": "stream",
     "text": [
      "[[0. 0.]\n",
      " [0. 0.]\n",
      " [0. 0.]\n",
      " [0. 0.]\n",
      " [0. 0.]\n",
      " [0. 0.]\n",
      " [0. 0.]]\n",
      "[[inf  0.]\n",
      " [ 0.  0.]\n",
      " [ 0.  0.]\n",
      " [ 0.  0.]\n",
      " [ 0.  0.]\n",
      " [ 0.  0.]\n",
      " [ 0.  0.]]\n",
      "[[inf  0.]\n",
      " [ 3.  1.]\n",
      " [ 0.  0.]\n",
      " [ 0.  0.]\n",
      " [ 0.  0.]\n",
      " [ 0.  0.]\n",
      " [ 0.  0.]]\n",
      "[[inf  0.]\n",
      " [ 3.  1.]\n",
      " [ 9.  2.]\n",
      " [ 0.  0.]\n",
      " [ 0.  0.]\n",
      " [ 0.  0.]\n",
      " [ 0.  0.]]\n",
      "[[inf  0.]\n",
      " [ 3.  1.]\n",
      " [ 9.  2.]\n",
      " [inf  3.]\n",
      " [ 0.  0.]\n",
      " [ 0.  0.]\n",
      " [ 0.  0.]]\n",
      "[[inf  0.]\n",
      " [ 3.  1.]\n",
      " [ 9.  2.]\n",
      " [inf  3.]\n",
      " [inf  4.]\n",
      " [ 0.  0.]\n",
      " [ 0.  0.]]\n",
      "[[inf  0.]\n",
      " [ 3.  1.]\n",
      " [ 9.  2.]\n",
      " [inf  3.]\n",
      " [inf  4.]\n",
      " [inf  5.]\n",
      " [ 0.  0.]]\n"
     ]
    },
    {
     "data": {
      "text/plain": [
       "(15.0, [6, 5, 3, 4, 1, 0])"
      ]
     },
     "execution_count": 16,
     "metadata": {},
     "output_type": "execute_result"
    }
   ],
   "source": [
    "def dijkstra(A, s, d):\n",
    "    if s == d:\n",
    "        e = 0\n",
    "        L = [s]\n",
    "    else:\n",
    "        A = setupgraph(A,np.inf,1)\n",
    "        if d == 1:\n",
    "            d = s\n",
    "        A = exchangenode(A,0,s)\n",
    "        lengthA = A.shape[0]\n",
    "        W = np.zeros(A.shape)\n",
    "        for i in range(1,lengthA):\n",
    "            W[0,i] = i\n",
    "            W[1,i] = A[0,i]\n",
    "        D =np.zeros((lengthA,2))\n",
    "        for i in range(lengthA):\n",
    "\n",
    "            \n",
    "            print(D)\n",
    "            D[i,0] = A[0,i]\n",
    "            D[i,1] = i \n",
    "\n",
    "        D2 = D[1:len(D),:]\n",
    "        L = 1\n",
    "        while L <= (W.shape[0]-2):\n",
    "            L = L + 1\n",
    "            D2 = D2[D2[:,0].argsort()]\n",
    "            k = D2[0,1]\n",
    "            W[L,0] = k \n",
    "           \n",
    "\n",
    "            D2 = D2[1:]\n",
    "            \n",
    "            for i in range(D2.shape[0]):\n",
    "                k = int(k)\n",
    "                l = D[int(D2[i,1]),0] \n",
    "                m = D[k,0]+A[k,int(D2[i,1])]\n",
    "                if l>m:\n",
    "                    D[int(D2[i,1]),0] = m\n",
    "                    D2[i,0] = D[int(D2[i,1]),0]\n",
    "            for i in range(1,A.shape[0]):\n",
    "                W[L,i] = D[i,0]\n",
    "\n",
    "        if d == s:\n",
    "            L = [0]\n",
    "        else:\n",
    "            L = [d]\n",
    "        e = W[W.shape[0]-1,d]\n",
    "        L = listdijkstra(L,W,s,d)\n",
    "    return e,L\n",
    "\n",
    "\n",
    "dijkstra(G,0,6)\n"
   ]
  },
  {
   "cell_type": "code",
   "execution_count": 76,
   "metadata": {},
   "outputs": [
    {
     "data": {
      "text/plain": [
       "array([[0., 0., 9., 0., 3., 0., 0.],\n",
       "       [0., 0., 4., 5., 0., 9., 0.],\n",
       "       [0., 0., 0., 7., 2., 0., 0.],\n",
       "       [0., 0., 0., 0., 0., 2., 8.],\n",
       "       [0., 1., 0., 7., 0., 0., 0.],\n",
       "       [0., 0., 0., 0., 0., 0., 4.],\n",
       "       [0., 0., 0., 0., 0., 0., 0.]])"
      ]
     },
     "execution_count": 76,
     "metadata": {},
     "output_type": "execute_result"
    }
   ],
   "source": [
    "\n",
    "G[:,1]\n",
    "exchangenode(G,1,4)\n"
   ]
  }
 ],
 "metadata": {
  "kernelspec": {
   "display_name": "Python 3 (ipykernel)",
   "language": "python",
   "name": "python3"
  },
  "language_info": {
   "codemirror_mode": {
    "name": "ipython",
    "version": 3
   },
   "file_extension": ".py",
   "mimetype": "text/x-python",
   "name": "python",
   "nbconvert_exporter": "python",
   "pygments_lexer": "ipython3",
   "version": "3.8.10"
  }
 },
 "nbformat": 4,
 "nbformat_minor": 2
}
